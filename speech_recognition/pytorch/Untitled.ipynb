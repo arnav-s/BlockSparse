{
 "cells": [
  {
   "cell_type": "code",
   "execution_count": 12,
   "metadata": {},
   "outputs": [],
   "source": [
    "import model\n",
    "import numpy as np"
   ]
  },
  {
   "cell_type": "code",
   "execution_count": 4,
   "metadata": {},
   "outputs": [],
   "source": [
    "ds2 = model.DeepSpeech()"
   ]
  },
  {
   "cell_type": "code",
   "execution_count": 15,
   "metadata": {},
   "outputs": [
    {
     "data": {
      "text/plain": [
       "array([[ 0.03268374, -0.02072847,  0.00023607, ..., -0.01638727,\n",
       "        -0.01343331, -0.01063785],\n",
       "       [ 0.00475388, -0.01591629,  0.03524786, ..., -0.02406869,\n",
       "         0.02337616, -0.03605283],\n",
       "       [ 0.02220825, -0.00687078,  0.02184571, ..., -0.01539167,\n",
       "        -0.02830457,  0.02730836],\n",
       "       ...,\n",
       "       [-0.01024905, -0.01455793,  0.00716665, ...,  0.00952554,\n",
       "         0.0304292 ,  0.03316211],\n",
       "       [-0.00616149,  0.00077237, -0.01200251, ..., -0.02545009,\n",
       "         0.01924526,  0.00332287],\n",
       "       [-0.02903486, -0.02540605, -0.01490297, ...,  0.0231097 ,\n",
       "        -0.00355718, -0.00535908]], dtype=float32)"
      ]
     },
     "execution_count": 15,
     "metadata": {},
     "output_type": "execute_result"
    }
   ],
   "source": [
    "ds2.rnns[0].rnn.state_dict()[list(ds2.rnns[0].rnn.state_dict().keys())[0]].numpy()"
   ]
  },
  {
   "cell_type": "code",
   "execution_count": 16,
   "metadata": {},
   "outputs": [],
   "source": [
    "a = ds2.rnns[0].rnn.state_dict()[list(ds2.rnns[0].rnn.state_dict().keys())[0]].numpy()"
   ]
  },
  {
   "cell_type": "code",
   "execution_count": 25,
   "metadata": {},
   "outputs": [],
   "source": [
    "r,c = a.shape"
   ]
  },
  {
   "cell_type": "code",
   "execution_count": 30,
   "metadata": {},
   "outputs": [
    {
     "data": {
      "text/plain": [
       "4"
      ]
     },
     "execution_count": 30,
     "metadata": {},
     "output_type": "execute_result"
    }
   ],
   "source": [
    "np.split(a,4)"
   ]
  },
  {
   "cell_type": "code",
   "execution_count": 20,
   "metadata": {},
   "outputs": [
    {
     "data": {
      "text/plain": [
       "-0.015916288"
      ]
     },
     "execution_count": 20,
     "metadata": {},
     "output_type": "execute_result"
    }
   ],
   "source": [
    "        "
   ]
  },
  {
   "cell_type": "code",
   "execution_count": 141,
   "metadata": {},
   "outputs": [],
   "source": [
    "x = np.arange(256)"
   ]
  },
  {
   "cell_type": "code",
   "execution_count": 142,
   "metadata": {},
   "outputs": [],
   "source": [
    "x = x.reshape((16,16))"
   ]
  },
  {
   "cell_type": "code",
   "execution_count": 143,
   "metadata": {},
   "outputs": [],
   "source": [
    "r,c = x.shape"
   ]
  },
  {
   "cell_type": "code",
   "execution_count": 144,
   "metadata": {},
   "outputs": [
    {
     "data": {
      "text/plain": [
       "array([[  0,   1,   2,   3,   4,   5,   6,   7,   8,   9,  10,  11,  12,\n",
       "         13,  14,  15],\n",
       "       [ 16,  17,  18,  19,  20,  21,  22,  23,  24,  25,  26,  27,  28,\n",
       "         29,  30,  31],\n",
       "       [ 32,  33,  34,  35,  36,  37,  38,  39,  40,  41,  42,  43,  44,\n",
       "         45,  46,  47],\n",
       "       [ 48,  49,  50,  51,  52,  53,  54,  55,  56,  57,  58,  59,  60,\n",
       "         61,  62,  63],\n",
       "       [ 64,  65,  66,  67,  68,  69,  70,  71,  72,  73,  74,  75,  76,\n",
       "         77,  78,  79],\n",
       "       [ 80,  81,  82,  83,  84,  85,  86,  87,  88,  89,  90,  91,  92,\n",
       "         93,  94,  95],\n",
       "       [ 96,  97,  98,  99, 100, 101, 102, 103, 104, 105, 106, 107, 108,\n",
       "        109, 110, 111],\n",
       "       [112, 113, 114, 115, 116, 117, 118, 119, 120, 121, 122, 123, 124,\n",
       "        125, 126, 127],\n",
       "       [128, 129, 130, 131, 132, 133, 134, 135, 136, 137, 138, 139, 140,\n",
       "        141, 142, 143],\n",
       "       [144, 145, 146, 147, 148, 149, 150, 151, 152, 153, 154, 155, 156,\n",
       "        157, 158, 159],\n",
       "       [160, 161, 162, 163, 164, 165, 166, 167, 168, 169, 170, 171, 172,\n",
       "        173, 174, 175],\n",
       "       [176, 177, 178, 179, 180, 181, 182, 183, 184, 185, 186, 187, 188,\n",
       "        189, 190, 191],\n",
       "       [192, 193, 194, 195, 196, 197, 198, 199, 200, 201, 202, 203, 204,\n",
       "        205, 206, 207],\n",
       "       [208, 209, 210, 211, 212, 213, 214, 215, 216, 217, 218, 219, 220,\n",
       "        221, 222, 223],\n",
       "       [224, 225, 226, 227, 228, 229, 230, 231, 232, 233, 234, 235, 236,\n",
       "        237, 238, 239],\n",
       "       [240, 241, 242, 243, 244, 245, 246, 247, 248, 249, 250, 251, 252,\n",
       "        253, 254, 255]])"
      ]
     },
     "execution_count": 144,
     "metadata": {},
     "output_type": "execute_result"
    }
   ],
   "source": [
    "x"
   ]
  },
  {
   "cell_type": "code",
   "execution_count": 213,
   "metadata": {},
   "outputs": [],
   "source": [
    "def get_blocks(x,size):\n",
    "    l=[]\n",
    "    r,c = x.shape\n",
    "    for i in range(0,r,size):\n",
    "        for j in range(0,c,size):\n",
    "            l.append(x[i:i+size,j:j+size])\n",
    "    return np.array(l)"
   ]
  },
  {
   "cell_type": "code",
   "execution_count": 146,
   "metadata": {},
   "outputs": [],
   "source": [
    "z = get_blocks(x,4)"
   ]
  },
  {
   "cell_type": "code",
   "execution_count": 147,
   "metadata": {},
   "outputs": [
    {
     "data": {
      "text/plain": [
       "array([[[  0,   1,   2,   3],\n",
       "        [ 16,  17,  18,  19],\n",
       "        [ 32,  33,  34,  35],\n",
       "        [ 48,  49,  50,  51]],\n",
       "\n",
       "       [[  4,   5,   6,   7],\n",
       "        [ 20,  21,  22,  23],\n",
       "        [ 36,  37,  38,  39],\n",
       "        [ 52,  53,  54,  55]],\n",
       "\n",
       "       [[  8,   9,  10,  11],\n",
       "        [ 24,  25,  26,  27],\n",
       "        [ 40,  41,  42,  43],\n",
       "        [ 56,  57,  58,  59]],\n",
       "\n",
       "       [[ 12,  13,  14,  15],\n",
       "        [ 28,  29,  30,  31],\n",
       "        [ 44,  45,  46,  47],\n",
       "        [ 60,  61,  62,  63]],\n",
       "\n",
       "       [[ 64,  65,  66,  67],\n",
       "        [ 80,  81,  82,  83],\n",
       "        [ 96,  97,  98,  99],\n",
       "        [112, 113, 114, 115]],\n",
       "\n",
       "       [[ 68,  69,  70,  71],\n",
       "        [ 84,  85,  86,  87],\n",
       "        [100, 101, 102, 103],\n",
       "        [116, 117, 118, 119]],\n",
       "\n",
       "       [[ 72,  73,  74,  75],\n",
       "        [ 88,  89,  90,  91],\n",
       "        [104, 105, 106, 107],\n",
       "        [120, 121, 122, 123]],\n",
       "\n",
       "       [[ 76,  77,  78,  79],\n",
       "        [ 92,  93,  94,  95],\n",
       "        [108, 109, 110, 111],\n",
       "        [124, 125, 126, 127]],\n",
       "\n",
       "       [[128, 129, 130, 131],\n",
       "        [144, 145, 146, 147],\n",
       "        [160, 161, 162, 163],\n",
       "        [176, 177, 178, 179]],\n",
       "\n",
       "       [[132, 133, 134, 135],\n",
       "        [148, 149, 150, 151],\n",
       "        [164, 165, 166, 167],\n",
       "        [180, 181, 182, 183]],\n",
       "\n",
       "       [[136, 137, 138, 139],\n",
       "        [152, 153, 154, 155],\n",
       "        [168, 169, 170, 171],\n",
       "        [184, 185, 186, 187]],\n",
       "\n",
       "       [[140, 141, 142, 143],\n",
       "        [156, 157, 158, 159],\n",
       "        [172, 173, 174, 175],\n",
       "        [188, 189, 190, 191]],\n",
       "\n",
       "       [[192, 193, 194, 195],\n",
       "        [208, 209, 210, 211],\n",
       "        [224, 225, 226, 227],\n",
       "        [240, 241, 242, 243]],\n",
       "\n",
       "       [[196, 197, 198, 199],\n",
       "        [212, 213, 214, 215],\n",
       "        [228, 229, 230, 231],\n",
       "        [244, 245, 246, 247]],\n",
       "\n",
       "       [[200, 201, 202, 203],\n",
       "        [216, 217, 218, 219],\n",
       "        [232, 233, 234, 235],\n",
       "        [248, 249, 250, 251]],\n",
       "\n",
       "       [[204, 205, 206, 207],\n",
       "        [220, 221, 222, 223],\n",
       "        [236, 237, 238, 239],\n",
       "        [252, 253, 254, 255]]])"
      ]
     },
     "execution_count": 147,
     "metadata": {},
     "output_type": "execute_result"
    }
   ],
   "source": [
    "z"
   ]
  },
  {
   "cell_type": "code",
   "execution_count": 148,
   "metadata": {},
   "outputs": [],
   "source": [
    "y = [np.max(z[i]) for i in range(len(z))]"
   ]
  },
  {
   "cell_type": "code",
   "execution_count": 177,
   "metadata": {},
   "outputs": [],
   "source": [
    "a = np.zeros(4)"
   ]
  },
  {
   "cell_type": "code",
   "execution_count": 179,
   "metadata": {},
   "outputs": [],
   "source": [
    "a[1] = -1"
   ]
  },
  {
   "cell_type": "code",
   "execution_count": 180,
   "metadata": {},
   "outputs": [
    {
     "data": {
      "text/plain": [
       "array([ 0., -1.,  0.,  0.])"
      ]
     },
     "execution_count": 180,
     "metadata": {},
     "output_type": "execute_result"
    }
   ],
   "source": [
    "a"
   ]
  },
  {
   "cell_type": "code",
   "execution_count": null,
   "metadata": {},
   "outputs": [],
   "source": []
  },
  {
   "cell_type": "code",
   "execution_count": 150,
   "metadata": {},
   "outputs": [],
   "source": [
    "for i in range(len(y)):\n",
    "    if (y[i]<120):\n",
    "        z[i] = np.zeros(z[i].shape)"
   ]
  },
  {
   "cell_type": "code",
   "execution_count": null,
   "metadata": {},
   "outputs": [],
   "source": []
  },
  {
   "cell_type": "code",
   "execution_count": 152,
   "metadata": {},
   "outputs": [
    {
     "data": {
      "text/plain": [
       "array([[[  0,   0,   0,   0],\n",
       "        [  0,   0,   0,   0],\n",
       "        [  0,   0,   0,   0],\n",
       "        [  0,   0,   0,   0]],\n",
       "\n",
       "       [[  0,   0,   0,   0],\n",
       "        [  0,   0,   0,   0],\n",
       "        [  0,   0,   0,   0],\n",
       "        [  0,   0,   0,   0]],\n",
       "\n",
       "       [[  0,   0,   0,   0],\n",
       "        [  0,   0,   0,   0],\n",
       "        [  0,   0,   0,   0],\n",
       "        [  0,   0,   0,   0]],\n",
       "\n",
       "       [[  0,   0,   0,   0],\n",
       "        [  0,   0,   0,   0],\n",
       "        [  0,   0,   0,   0],\n",
       "        [  0,   0,   0,   0]],\n",
       "\n",
       "       [[  0,   0,   0,   0],\n",
       "        [  0,   0,   0,   0],\n",
       "        [  0,   0,   0,   0],\n",
       "        [  0,   0,   0,   0]],\n",
       "\n",
       "       [[  0,   0,   0,   0],\n",
       "        [  0,   0,   0,   0],\n",
       "        [  0,   0,   0,   0],\n",
       "        [  0,   0,   0,   0]],\n",
       "\n",
       "       [[ 72,  73,  74,  75],\n",
       "        [ 88,  89,  90,  91],\n",
       "        [104, 105, 106, 107],\n",
       "        [120, 121, 122, 123]],\n",
       "\n",
       "       [[ 76,  77,  78,  79],\n",
       "        [ 92,  93,  94,  95],\n",
       "        [108, 109, 110, 111],\n",
       "        [124, 125, 126, 127]],\n",
       "\n",
       "       [[128, 129, 130, 131],\n",
       "        [144, 145, 146, 147],\n",
       "        [160, 161, 162, 163],\n",
       "        [176, 177, 178, 179]],\n",
       "\n",
       "       [[132, 133, 134, 135],\n",
       "        [148, 149, 150, 151],\n",
       "        [164, 165, 166, 167],\n",
       "        [180, 181, 182, 183]],\n",
       "\n",
       "       [[136, 137, 138, 139],\n",
       "        [152, 153, 154, 155],\n",
       "        [168, 169, 170, 171],\n",
       "        [184, 185, 186, 187]],\n",
       "\n",
       "       [[140, 141, 142, 143],\n",
       "        [156, 157, 158, 159],\n",
       "        [172, 173, 174, 175],\n",
       "        [188, 189, 190, 191]],\n",
       "\n",
       "       [[192, 193, 194, 195],\n",
       "        [208, 209, 210, 211],\n",
       "        [224, 225, 226, 227],\n",
       "        [240, 241, 242, 243]],\n",
       "\n",
       "       [[196, 197, 198, 199],\n",
       "        [212, 213, 214, 215],\n",
       "        [228, 229, 230, 231],\n",
       "        [244, 245, 246, 247]],\n",
       "\n",
       "       [[200, 201, 202, 203],\n",
       "        [216, 217, 218, 219],\n",
       "        [232, 233, 234, 235],\n",
       "        [248, 249, 250, 251]],\n",
       "\n",
       "       [[204, 205, 206, 207],\n",
       "        [220, 221, 222, 223],\n",
       "        [236, 237, 238, 239],\n",
       "        [252, 253, 254, 255]]])"
      ]
     },
     "execution_count": 152,
     "metadata": {},
     "output_type": "execute_result"
    }
   ],
   "source": [
    "z"
   ]
  },
  {
   "cell_type": "code",
   "execution_count": 170,
   "metadata": {},
   "outputs": [],
   "source": [
    "#has hardcoded params, can be changed later to add to training class\n",
    "def get_threshold(x,block_size):\n",
    "    #85% sparsity\n",
    "    q = np.percentile(x,85)\n",
    "    #based on heuristics in paper, change as you need\n",
    "    theta = q*100*2/(2*(0.2*params.epochs-2)+3*(0.4*params.epochs-0.2*params.epochs))\n",
    "    return theta*pow(block_size,0.25)\n",
    "    "
   ]
  },
  {
   "cell_type": "code",
   "execution_count": 188,
   "metadata": {},
   "outputs": [],
   "source": [
    "from collections import OrderedDict"
   ]
  },
  {
   "cell_type": "code",
   "execution_count": 189,
   "metadata": {},
   "outputs": [],
   "source": [
    "new_state_dict = OrderedDict"
   ]
  },
  {
   "cell_type": "code",
   "execution_count": 227,
   "metadata": {},
   "outputs": [],
   "source": [
    "wanted_weights = []\n",
    "for k in ds2.state_dict().keys():\n",
    "    if 'rnn' in k:\n",
    "        wanted_weights.append(k)"
   ]
  },
  {
   "cell_type": "code",
   "execution_count": null,
   "metadata": {},
   "outputs": [],
   "source": []
  },
  {
   "cell_type": "code",
   "execution_count": 228,
   "metadata": {},
   "outputs": [],
   "source": [
    "new_state_dict = ds2.state_dict().copy()"
   ]
  },
  {
   "cell_type": "code",
   "execution_count": 229,
   "metadata": {},
   "outputs": [
    {
     "name": "stdout",
     "output_type": "stream",
     "text": [
      "rnns.0.rnn.weight_ih_l0\n",
      "129024\n",
      "[False False False ...  True  True  True]\n",
      "rnns.0.rnn.weight_hh_l0\n",
      "147456\n",
      "[ True  True  True ...  True  True  True]\n",
      "rnns.0.rnn.weight_ih_l0_reverse\n",
      "129024\n",
      "[ True  True  True ...  True  True  True]\n",
      "rnns.0.rnn.weight_hh_l0_reverse\n",
      "147456\n",
      "[ True  True  True ...  True  True  True]\n",
      "rnns.1.rnn.weight_ih_l0\n",
      "147456\n",
      "[ True  True  True ...  True  True  True]\n",
      "rnns.1.rnn.weight_hh_l0\n",
      "147456\n",
      "[ True  True  True ...  True  True  True]\n",
      "rnns.1.rnn.weight_ih_l0_reverse\n",
      "147456\n",
      "[ True  True  True ...  True  True  True]\n",
      "rnns.1.rnn.weight_hh_l0_reverse\n",
      "147456\n",
      "[ True  True  True ...  True  True  True]\n",
      "rnns.2.rnn.weight_ih_l0\n",
      "147456\n",
      "[ True  True  True ...  True  True  True]\n",
      "rnns.2.rnn.weight_hh_l0\n",
      "147456\n",
      "[ True  True  True ...  True  True  True]\n",
      "rnns.2.rnn.weight_ih_l0_reverse\n",
      "147456\n",
      "[ True  True  True ...  True  True  True]\n",
      "rnns.2.rnn.weight_hh_l0_reverse\n",
      "147456\n",
      "[ True  True  True ...  True  True  True]\n",
      "rnns.3.rnn.weight_ih_l0\n",
      "147456\n",
      "[ True  True  True ...  True  True  True]\n",
      "rnns.3.rnn.weight_hh_l0\n",
      "147456\n",
      "[ True  True  True ...  True  True  True]\n",
      "rnns.3.rnn.weight_ih_l0_reverse\n",
      "147456\n",
      "[ True  True  True ...  True  True  True]\n",
      "rnns.3.rnn.weight_hh_l0_reverse\n",
      "147456\n",
      "[ True  True  True ...  True  True  True]\n",
      "rnns.4.rnn.weight_ih_l0\n",
      "147456\n",
      "[ True  True  True ...  True  True  True]\n",
      "rnns.4.rnn.weight_hh_l0\n",
      "147456\n",
      "[ True  True  True ...  True  True  True]\n",
      "rnns.4.rnn.weight_ih_l0_reverse\n",
      "147456\n",
      "[ True  True  True ...  True  True  True]\n",
      "rnns.4.rnn.weight_hh_l0_reverse\n",
      "147456\n",
      "[ True  True  True ...  True  True  True]\n"
     ]
    }
   ],
   "source": [
    "def weight_prune(arr,threshold,size):\n",
    "    blk_arr = get_blocks(arr,size)\n",
    "    y = [np.max(blk_arr[i]) for i in range(len(blk_arr))]\n",
    "    print(len(y))\n",
    "    pruned_inds = np.abs(y) > threshold\n",
    "    print(pruned_inds)\n",
    "    '''for i in range(len(y)):\n",
    "        reshaped_mask = np.full(blk_arr[i].shape,pruned_inds[i])'''\n",
    "    try:\n",
    "        r,c = arr.shape\n",
    "        ctr = 0\n",
    "        #print(len(reshaped_mask))\n",
    "        for i in range(0,r,size):\n",
    "            for j in range(0,c,size):\n",
    "                #print(ctr)\n",
    "                #print(blk_arr[0])\n",
    "                #print(reshaped_mask)\n",
    "                arr[i:i+size,j:j+size] = arr[i:i+size,j:j+size]*pruned_inds[ctr]\n",
    "                ctr+=1\n",
    "    except:\n",
    "        return\n",
    "for w in wanted_weights:\n",
    "    print(w)\n",
    "    weight_prune(new_state_dict[w].numpy(),0.01,4)"
   ]
  },
  {
   "cell_type": "code",
   "execution_count": 231,
   "metadata": {},
   "outputs": [
    {
     "data": {
      "text/plain": [
       "tensor([[ 0.0000, -0.0000,  0.0000,  ..., -0.0164, -0.0134, -0.0106],\n",
       "        [ 0.0000, -0.0000,  0.0000,  ..., -0.0241,  0.0234, -0.0361],\n",
       "        [ 0.0000, -0.0000,  0.0000,  ..., -0.0154, -0.0283,  0.0273],\n",
       "        ...,\n",
       "        [-0.0102, -0.0146,  0.0072,  ...,  0.0095,  0.0304,  0.0332],\n",
       "        [-0.0062,  0.0008, -0.0120,  ..., -0.0255,  0.0192,  0.0033],\n",
       "        [-0.0290, -0.0254, -0.0149,  ...,  0.0231, -0.0036, -0.0054]])"
      ]
     },
     "execution_count": 231,
     "metadata": {},
     "output_type": "execute_result"
    }
   ],
   "source": []
  },
  {
   "cell_type": "code",
   "execution_count": 214,
   "metadata": {},
   "outputs": [
    {
     "data": {
      "text/plain": [
       "array([[[ 0.        , -0.        ,  0.        , -0.        ],\n",
       "        [ 0.        , -0.        ,  0.        , -0.        ],\n",
       "        [ 0.        , -0.        ,  0.        ,  0.        ],\n",
       "        [-0.        , -0.        , -0.        ,  0.        ]],\n",
       "\n",
       "       [[ 0.        ,  0.        , -0.        , -0.        ],\n",
       "        [ 0.        , -0.        , -0.        ,  0.        ],\n",
       "        [-0.        ,  0.        ,  0.        , -0.        ],\n",
       "        [ 0.        , -0.        , -0.        , -0.        ]],\n",
       "\n",
       "       [[-0.        ,  0.        ,  0.        ,  0.        ],\n",
       "        [-0.        ,  0.        ,  0.        ,  0.        ],\n",
       "        [ 0.        , -0.        ,  0.        , -0.        ],\n",
       "        [ 0.        ,  0.        , -0.        ,  0.        ]],\n",
       "\n",
       "       ...,\n",
       "\n",
       "       [[-0.00779252,  0.03134624, -0.01302069, -0.01870524],\n",
       "        [ 0.02589906,  0.03574664, -0.01294108, -0.00104251],\n",
       "        [-0.03145704,  0.02047625,  0.01766683,  0.02454479],\n",
       "        [ 0.02867739,  0.02128186,  0.00302703,  0.00187101]],\n",
       "\n",
       "       [[ 0.0126128 ,  0.00220267,  0.01544825, -0.01606894],\n",
       "        [ 0.01482117,  0.03607652, -0.01236079,  0.02072566],\n",
       "        [ 0.02360464,  0.00437309, -0.03184721,  0.0334905 ],\n",
       "        [-0.03594077, -0.01445235, -0.02417973, -0.03449747]],\n",
       "\n",
       "       [[ 0.01030411, -0.0128908 ,  0.02106225, -0.00802887],\n",
       "        [-0.01781389,  0.00952554,  0.0304292 ,  0.03316211],\n",
       "        [-0.03545158, -0.02545009,  0.01924526,  0.00332287],\n",
       "        [-0.03564775,  0.0231097 , -0.00355718, -0.00535908]]],\n",
       "      dtype=float32)"
      ]
     },
     "execution_count": 214,
     "metadata": {},
     "output_type": "execute_result"
    }
   ],
   "source": [
    "get_blocks(new_state_dict['rnns.0.rnn.weight_ih_l0'].numpy(),4)"
   ]
  },
  {
   "cell_type": "code",
   "execution_count": null,
   "metadata": {},
   "outputs": [],
   "source": []
  }
 ],
 "metadata": {
  "kernelspec": {
   "display_name": "Python 3",
   "language": "python",
   "name": "python3"
  },
  "language_info": {
   "codemirror_mode": {
    "name": "ipython",
    "version": 3
   },
   "file_extension": ".py",
   "mimetype": "text/x-python",
   "name": "python",
   "nbconvert_exporter": "python",
   "pygments_lexer": "ipython3",
   "version": "3.7.1"
  }
 },
 "nbformat": 4,
 "nbformat_minor": 2
}
